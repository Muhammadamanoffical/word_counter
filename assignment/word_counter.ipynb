{
 "cells": [
  {
   "cell_type": "code",
   "execution_count": 11,
   "id": "0c2f2bcd-1fe3-4df0-99c2-3797d00b0387",
   "metadata": {},
   "outputs": [
    {
     "name": "stdout",
     "output_type": "stream",
     "text": [
      "Welcome to word counter program\n"
     ]
    },
    {
     "name": "stdin",
     "output_type": "stream",
     "text": [
      "Enter your file name  test.txt\n"
     ]
    },
    {
     "name": "stdout",
     "output_type": "stream",
     "text": [
      "📄 Total words in test.txt: 1\n"
     ]
    }
   ],
   "source": [
    "def word_counter(filename):\n",
    "    try:\n",
    "        with open(filename ,\"r\") as f:\n",
    "            content=f.read()\n",
    "            word=content.split()\n",
    "            wordsLen=len(word)\n",
    "            print(f\"📄 Total words in {filename}: {wordsLen}\")\n",
    "    except FileNotFoundError:\n",
    "        print(\"file not found \")\n",
    "print(\"Welcome to word counter program\")\n",
    "file_name=input(\"Enter your file name \")\n",
    "word_counter(file_name)"
   ]
  },
  {
   "cell_type": "code",
   "execution_count": null,
   "id": "3846e0ec-63c6-4a0c-a445-2b647e3033b6",
   "metadata": {},
   "outputs": [],
   "source": []
  }
 ],
 "metadata": {
  "kernelspec": {
   "display_name": "Python [conda env:base] *",
   "language": "python",
   "name": "conda-base-py"
  },
  "language_info": {
   "codemirror_mode": {
    "name": "ipython",
    "version": 3
   },
   "file_extension": ".py",
   "mimetype": "text/x-python",
   "name": "python",
   "nbconvert_exporter": "python",
   "pygments_lexer": "ipython3",
   "version": "3.12.7"
  }
 },
 "nbformat": 4,
 "nbformat_minor": 5
}
